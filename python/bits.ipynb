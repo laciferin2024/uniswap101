{
 "cells": [
  {
   "cell_type": "code",
   "execution_count": 7,
   "id": "0190df09-5287-43c5-98cf-e8ca958f727e",
   "metadata": {},
   "outputs": [
    {
     "data": {
      "text/plain": [
       "'000000001010'"
      ]
     },
     "execution_count": 7,
     "metadata": {},
     "output_type": "execute_result"
    }
   ],
   "source": [
    "def bin(x, n):\n",
    "    return format(x, f\"0{n}b\")"
   ]
  },
  {
   "cell_type": "code",
   "execution_count": 15,
   "id": "008e8662-d678-4086-805e-14cd92f1dc2e",
   "metadata": {},
   "outputs": [
    {
     "name": "stdout",
     "output_type": "stream",
     "text": [
      "00001100\n",
      "01001100\n"
     ]
    }
   ],
   "source": [
    "# Set a bit to 1\n",
    "x = 12\n",
    "x1 = (1 << 6) | x\n",
    "\n",
    "print(bin(x, 8))\n",
    "print(bin(x1, 8))"
   ]
  },
  {
   "cell_type": "code",
   "execution_count": 17,
   "id": "06df1363-5aad-41e0-bb06-b0ef12ee911b",
   "metadata": {},
   "outputs": [
    {
     "name": "stdout",
     "output_type": "stream",
     "text": [
      "01111011\n",
      "00111011\n"
     ]
    }
   ],
   "source": [
    "# Clear a bit\n",
    "x = 123\n",
    "x1 = ~(1 << 6) & x\n",
    "\n",
    "print(bin(x, 8))\n",
    "print(bin(x1, 8))"
   ]
  },
  {
   "cell_type": "code",
   "execution_count": 18,
   "id": "0ec42e46-bfbf-4ab4-8e85-bce0acfacabe",
   "metadata": {},
   "outputs": [
    {
     "name": "stdout",
     "output_type": "stream",
     "text": [
      "01111011\n",
      "01110011\n"
     ]
    }
   ],
   "source": [
    "# Toggle a bit\n",
    "x = 123\n",
    "x1 = (1 << 3) ^ x\n",
    "\n",
    "print(bin(x, 8))\n",
    "print(bin(x1, 8))"
   ]
  },
  {
   "cell_type": "code",
   "execution_count": 24,
   "id": "4c01430a-3104-4323-930e-089dafa5ce74",
   "metadata": {},
   "outputs": [
    {
     "name": "stdout",
     "output_type": "stream",
     "text": [
      "00001100\n",
      "00001111\n"
     ]
    }
   ],
   "source": [
    "# Convert trailing 0s to 1s\n",
    "x = 12\n",
    "x1 = (x - 1) | x\n",
    "\n",
    "print(bin(x, 8))\n",
    "print(bin(x1, 8))"
   ]
  },
  {
   "cell_type": "code",
   "execution_count": 25,
   "id": "0ff7071e-6db0-404b-97ea-5df902bbe864",
   "metadata": {},
   "outputs": [
    {
     "name": "stdout",
     "output_type": "stream",
     "text": [
      "00001100\n",
      "-0001100\n",
      "00000100\n"
     ]
    }
   ],
   "source": [
    "# Least significant bit\n",
    "x = 12\n",
    "x1 = (~x) + 1\n",
    "x2 = x & x1\n",
    "\n",
    "print(bin(x, 8))\n",
    "print(bin(x1, 8))\n",
    "print(bin(x2, 8))"
   ]
  },
  {
   "cell_type": "code",
   "execution_count": 30,
   "id": "c9d3a434-f885-47b1-aa9d-453ee28e7313",
   "metadata": {},
   "outputs": [
    {
     "name": "stdout",
     "output_type": "stream",
     "text": [
      "01111011\n",
      "00001100\n",
      "00011100\n",
      "01101111\n"
     ]
    }
   ],
   "source": [
    "# Masked copy - copy bits from b into a where m = 1\n",
    "a = 123\n",
    "b = 12\n",
    "m = 28\n",
    "c = (b & m) | (a & ~m)\n",
    "\n",
    "print(bin(a, 8))\n",
    "print(bin(b, 8))\n",
    "print(bin(m, 8))\n",
    "print(bin(c, 8))"
   ]
  },
  {
   "cell_type": "code",
   "execution_count": 1,
   "id": "806b735c-69c6-4865-a70d-ba00737be715",
   "metadata": {},
   "outputs": [
    {
     "name": "stdout",
     "output_type": "stream",
     "text": [
      "--- Add ---\n",
      "x   01111011\n",
      "y   00001101\n",
      "x&y 00001001\n",
      "x^y 01110110\n",
      "--- Average ---\n",
      "a 01111011\n",
      "b 00001011\n",
      "c 01000011\n",
      "67\n"
     ]
    }
   ],
   "source": [
    "def bin(x, n):\n",
    "    return format(x, f\"0{n}b\")\n",
    "\n",
    "import math\n",
    "\n",
    "def add(x, y):\n",
    "    return (x&y)*2 + (x^y)\n",
    "\n",
    "x = 123\n",
    "y = 13\n",
    "z = add(x, y)\n",
    "\n",
    "print(\"--- Add ---\")\n",
    "print(\"x  \", bin(x, 8))\n",
    "print(\"y  \", bin(y, 8))\n",
    "print(\"x&y\", bin(x&y, 8))\n",
    "print(\"x^y\", bin(x^y, 8))\n",
    "\n",
    "# Average without overflow\n",
    "def avg(x, y):\n",
    "    return (x&y) + (x^y)/2\n",
    "\n",
    "a = 123\n",
    "b = 11\n",
    "c = math.floor(avg(a, b))\n",
    "\n",
    "print(\"--- Average ---\")\n",
    "print(\"a\", bin(a, 8))\n",
    "print(\"b\", bin(b, 8))\n",
    "print(\"c\", bin(c, 8))\n",
    "print(c)"
   ]
  }
 ],
 "metadata": {
  "kernelspec": {
   "display_name": "Python 3 (ipykernel)",
   "language": "python",
   "name": "python3"
  },
  "language_info": {
   "codemirror_mode": {
    "name": "ipython",
    "version": 3
   },
   "file_extension": ".py",
   "mimetype": "text/x-python",
   "name": "python",
   "nbconvert_exporter": "python",
   "pygments_lexer": "ipython3",
   "version": "3.10.7"
  }
 },
 "nbformat": 4,
 "nbformat_minor": 5
}
