{
 "cells": [
  {
   "cell_type": "code",
   "execution_count": 23,
   "id": "131d5561-f76e-42d0-9f37-7e196bffcad9",
   "metadata": {},
   "outputs": [
    {
     "name": "stdout",
     "output_type": "stream",
     "text": [
      "i fmt(i) fmt(l) m a\n",
      "16 010000 000001 0 16\n",
      "17 010001 000010 1  8\n",
      "18 010010 000001 0 18\n",
      "19 010011 000100 2  4\n",
      "20 010100 000001 0 20\n",
      "21 010101 000010 1 10\n",
      "22 010110 000001 0 22\n",
      "23 010111 001000 3  2\n",
      "24 011000 000001 0 24\n",
      "25 011001 000010 1 12\n",
      "26 011010 000001 0 26\n",
      "27 011011 000100 2  6\n",
      "28 011100 000001 0 28\n",
      "29 011101 000010 1 14\n",
      "30 011110 000001 0 30\n",
      "31 011111 100000 5  0\n"
     ]
    }
   ],
   "source": [
    "# Trace ancestor\n",
    "\n",
    "# index of most significant bit\n",
    "def msb(x):\n",
    "    i = 0\n",
    "    x >>= 1\n",
    "    while x != 0:\n",
    "        i += 1\n",
    "        x >>= 1\n",
    "    return i\n",
    "\n",
    "# set 1 for right most unset bit\n",
    "def lsb(x):\n",
    "    return ~x & (x + 1)\n",
    "\n",
    "def fmt(x):\n",
    "    return format(x, \"06b\")\n",
    "\n",
    "print(\"i fmt(i) fmt(l) m a\")\n",
    "for i in range(16, 32):\n",
    "    l = lsb(i)\n",
    "    m = msb(l)\n",
    "    a = i >> m\n",
    "    print(i, fmt(i), fmt(l), m, f'{a: >2}')    "
   ]
  },
  {
   "cell_type": "code",
   "execution_count": 16,
   "id": "1a7de539-34be-4d9d-bfc9-a55fbe0ea390",
   "metadata": {},
   "outputs": [
    {
     "name": "stdout",
     "output_type": "stream",
     "text": [
      "183\n",
      "8 00001000\n"
     ]
    }
   ],
   "source": [
    "\"\"\"\n",
    "~x & (x + 1)\n",
    "set right most 0 to 1, everything else to 0 for unsigned int\n",
    "\n",
    "Example\n",
    "x            = 10110111 (binary)\n",
    "~x & (x + 1) = 00001000 (binary)\n",
    "\"\"\"\n",
    "\n",
    "\"\"\"\n",
    "Why?\n",
    "~x flips 0 to 1 and 1 to 0\n",
    " x = 10110111\n",
    "~x = 01001000\n",
    "\n",
    "x + 1\n",
    "x     = 10110111\n",
    "x + 1 = 10111000\n",
    "- all 1s to the right of lowest 0 bit\n",
    "- flips 1s to 0s to the right of the lowest 0 bit\n",
    "- flips 1 at the lowest 0 bit\n",
    "- and everything to the left unchanged\n",
    "\n",
    "~x & (x + 1)\n",
    " x           = 10110111\n",
    "\n",
    "~x           = 01001000\n",
    " x + 1       = 10111000\n",
    "~x & (x + 1) = 00001000\n",
    "\"\"\"\n",
    "\n",
    "x = int(\"10110111\", 2)\n",
    "print(x)\n",
    "\n",
    "l = ~x & (x + 1)\n",
    "print(l, f'{l:08b}')"
   ]
  }
 ],
 "metadata": {
  "kernelspec": {
   "display_name": "Python 3 (ipykernel)",
   "language": "python",
   "name": "python3"
  },
  "language_info": {
   "codemirror_mode": {
    "name": "ipython",
    "version": 3
   },
   "file_extension": ".py",
   "mimetype": "text/x-python",
   "name": "python",
   "nbconvert_exporter": "python",
   "pygments_lexer": "ipython3",
   "version": "3.10.11"
  }
 },
 "nbformat": 4,
 "nbformat_minor": 5
}
