{
 "cells": [
  {
   "cell_type": "code",
   "execution_count": 28,
   "id": "9c16b4f5-416c-49dc-bc41-eb590253f90a",
   "metadata": {},
   "outputs": [],
   "source": [
    "R = 1.1\n",
    "\n",
    "def calc_p(t):\n",
    "    return R**t\n",
    "\n",
    "def calc_liq(p, x, y):\n",
    "    return p * x + y\n",
    "\n",
    "def calc_x(p, l, y):\n",
    "    return (l - y) / p\n",
    "\n",
    "def calc_y(p, l, x):\n",
    "    return l - p * x\n",
    "\n",
    "def calc_dy(p, x, y, dx):\n",
    "    # p * (x + dx) + (y - dy) = p * x + y\n",
    "    # p * dx - dy = 0\n",
    "    return p * dx\n",
    "\n",
    "def calc_dx(p, x, y, dy):\n",
    "    # p * (x - dx) + (y + dy) = p * x + y\n",
    "    # p * (-dx) + dy = 0\n",
    "    return dy / p\n",
    "\n",
    "def geo_sum(r, n):\n",
    "    return (r**(n+1) - 1) / (r - 1)\n",
    "\n",
    "# k <= i <= k + n\n",
    "# s = (R**(n + 1) - 1) / (R - 1)\n",
    "# x = x_k * s\n",
    "# Find x such that uniform liquidity L is provided to k to k + n\n",
    "# L = p_x_k * x_k\n",
    "# n * L = sum(p_i * x_i)\n",
    "# x_k = L / p_x_k\n",
    "# x = x_k * s\n",
    "def calc_x_k(x, n):\n",
    "    s = geo_sum(R, n)\n",
    "    return x / s\n",
    "\n",
    "def calc_x_i(x_k, i):\n",
    "    # 0 <= i\n",
    "    return x_k / R**i\n",
    "\n",
    "def sum_y(t_lo, t_hi, liq):\n",
    "    assert t_lo <= t_hi\n",
    "    return liq * (t_hi - t_lo + 1)\n",
    "\n",
    "# x = x_k + x_(k+1) + ... + x_(k+n)\n",
    "# L_k = p_k * x_k\n",
    "# (n + 1) * L_k = sum(p_(k+i) * x_(k+i)), 0 <= i <= n\n",
    "# x_(k+i) = 1/R**i * x_k\n",
    "def sum_x(t_lo, t_hi, liq):\n",
    "    assert t_lo <= t_hi\n",
    "    n = t_hi - t_lo\n",
    "    s = geo_sum(1/R, n)\n",
    "    p_k = calc_p(t_lo)\n",
    "    x_k = liq / p_k\n",
    "    return x_k * s\n",
    "\n",
    "\n",
    "def calc_lyi(t_lo, t_hi, y):\n",
    "    assert t_lo <= t_hi\n",
    "    return y / (t_hi - t_lo + 1)\n",
    "\n",
    "def calc_lxi(t_lo, t_hi, x):\n",
    "    n = t_hi - t_lo\n",
    "    s = geo_sum(1/R, n)\n",
    "    x_k = x / s\n",
    "    p_k = calc_p(t_lo)\n",
    "    return p_k * x_k"
   ]
  },
  {
   "cell_type": "code",
   "execution_count": 32,
   "id": "34c078bf-4105-43a5-9d02-0991b01fc900",
   "metadata": {},
   "outputs": [
    {
     "name": "stdout",
     "output_type": "stream",
     "text": [
      "ly 10.0\n",
      "lx 10.0\n",
      "y 100\n",
      "x 61.44567105704681\n"
     ]
    }
   ],
   "source": [
    "print(\"ly\", calc_lyi(-10, -1, 100))\n",
    "print(\"lx\", calc_lxi(1, 10, sum_x(1, 10, 10)))\n",
    "\n",
    "print(\"y\", sum_y(-10, -1, 10))\n",
    "print(\"x\", sum_x(1, 10, 10))"
   ]
  },
  {
   "cell_type": "code",
   "execution_count": 2,
   "id": "cfd86c3d-2178-418a-a552-6e6bd79407b1",
   "metadata": {},
   "outputs": [
    {
     "data": {
      "image/png": "[encoded data removed]",
      "text/plain": [
       "<Figure size 432x288 with 1 Axes>"
      ]
     },
     "metadata": {
      "needs_background": "light"
     },
     "output_type": "display_data"
    },
    {
     "name": "stdout",
     "output_type": "stream",
     "text": [
      "30.0 24.86851990984222 24.868519909842224\n",
      "30.0 30\n"
     ]
    }
   ],
   "source": [
    "import math\n",
    "import random\n",
    "import matplotlib.pyplot as plt\n",
    "\n",
    "N = 3\n",
    "# x_k = calc_x_k(x, N)\n",
    "L = 10\n",
    "x_k = L / calc_p(1)\n",
    "s = geo_sum(R, N - 1)\n",
    "x = x_k * s\n",
    "\n",
    "x_ticks = [i + 1 for i in range(N)]\n",
    "y_ticks = [-(i + 1) for i in range(N)]\n",
    "x_liqs = [calc_liq(calc_p(t), x, 0) for (t, x) in zip(x_ticks, [x_k, x_k / R, x_k / R**2])]\n",
    "y_liqs = [calc_liq(calc_p(t), 0, y) for (t, y) in zip(y_ticks, [L, L, L])]\n",
    "\n",
    "plt.bar(x_ticks, x_liqs, color = \"tab:red\")\n",
    "plt.bar(y_ticks, y_liqs, color = \"tab:blue\")\n",
    "plt.grid()\n",
    "plt.show()\n",
    "\n",
    "# TODO: fix - sum x != sum_x\n",
    "print(sum(x_liqs), sum([x_k, x_k / R, x_k / R**2]), sum_x(1, 3, 10))\n",
    "print(sum(y_liqs), sum_y(-3, -1, 10))"
   ]
  }
 ],
 "metadata": {
  "kernelspec": {
   "display_name": "Python 3 (ipykernel)",
   "language": "python",
   "name": "python3"
  },
  "language_info": {
   "codemirror_mode": {
    "name": "ipython",
    "version": 3
   },
   "file_extension": ".py",
   "mimetype": "text/x-python",
   "name": "python",
   "nbconvert_exporter": "python",
   "pygments_lexer": "ipython3",
   "version": "3.10.11"
  }
 },
 "nbformat": 4,
 "nbformat_minor": 5
}
