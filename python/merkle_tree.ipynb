{
 "cells": [
  {
   "cell_type": "code",
   "execution_count": 2,
   "id": "93a29831-2f54-4bab-a412-e027bc6aca4a",
   "metadata": {},
   "outputs": [
    {
     "data": {
      "text/plain": [
       "'h(h(h(h(0) + h(1)) + h(h(2) + h(3))) + h(h(h(4) + h(5)) + h(h(6) + h(7))))'"
      ]
     },
     "execution_count": 2,
     "metadata": {},
     "output_type": "execute_result"
    }
   ],
   "source": [
    "N = 8\n",
    "\n",
    "def hash(a, b):\n",
    "    return f'h({a} + {b})'\n",
    "\n",
    "def calc_root():\n",
    "    hashes = [f'h({i})' for i in range(N)]\n",
    "\n",
    "    n = N\n",
    "    while n > 1:\n",
    "        for i in range(0, n, 2):\n",
    "            left = hashes[i]\n",
    "            right = hashes[i + 1 if i + 1 < n else i]\n",
    "            hashes[i // 2] = hash(left, right)\n",
    "        n = (n + (n & 1)) // 2\n",
    "\n",
    "    return hashes[0]\n",
    "\n",
    "calc_root()"
   ]
  }
 ],
 "metadata": {
  "kernelspec": {
   "display_name": "Python 3 (ipykernel)",
   "language": "python",
   "name": "python3"
  },
  "language_info": {
   "codemirror_mode": {
    "name": "ipython",
    "version": 3
   },
   "file_extension": ".py",
   "mimetype": "text/x-python",
   "name": "python",
   "nbconvert_exporter": "python",
   "pygments_lexer": "ipython3",
   "version": "3.10.11"
  }
 },
 "nbformat": 4,
 "nbformat_minor": 5
}
