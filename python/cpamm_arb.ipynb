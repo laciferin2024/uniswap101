{
 "cells": [
  {
   "cell_type": "code",
   "execution_count": null,
   "id": "ef616c76-dbdd-4de0-aadb-bf05783727b0",
   "metadata": {},
   "outputs": [],
   "source": [
    "from sympy import symbols, diff, simplify, init_printing, sqrt\n",
    "from sympy.solvers import solve\n",
    "init_printing()\n",
    "\n",
    "x_a, y_a, x_b, y_b, dy_0, f = symbols(\"x_A y_A x_B y_B dy_0 f\")\n",
    "dx = dy_0 * (1 - f) * x_a / (y_a + dy_0 * (1 - f))\n",
    "dy_1 = dx * (1 - f) * y_b / (x_b + dx * (1 - f))\n",
    "\n",
    "k = (1-f)*x_b + (1-f)**2*x_a\n",
    "a = k**2\n",
    "b = 2*k*y_a*x_b\n",
    "c = (y_a*x_b)**2 - (1-f)**2*x_a*y_b*y_a*x_b\n",
    "\n",
    "r = (-b + sqrt(b**2 - 4*a*c)) / (2*a)\n",
    "\n",
    "f = dy_1 - dy_0\n",
    "df = diff(f, dy_0)\n",
    "\n",
    "display(simplify(r))\n",
    "\n",
    "display(dx)\n",
    "display(dy_1)\n",
    "display(simplify(dy_1))\n",
    "display(f)\n",
    "display(df)"
   ]
  }
 ],
 "metadata": {
  "kernelspec": {
   "display_name": "Python 3 (ipykernel)",
   "language": "python",
   "name": "python3"
  },
  "language_info": {
   "codemirror_mode": {
    "name": "ipython",
    "version": 3
   },
   "file_extension": ".py",
   "mimetype": "text/x-python",
   "name": "python",
   "nbconvert_exporter": "python",
   "pygments_lexer": "ipython3",
   "version": "3.10.7"
  }
 },
 "nbformat": 4,
 "nbformat_minor": 5
}
