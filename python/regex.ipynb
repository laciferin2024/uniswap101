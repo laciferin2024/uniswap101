{
 "cells": [
  {
   "cell_type": "code",
   "execution_count": 25,
   "id": "ab02f7dd-fb00-4758-ba19-f5414e71b487",
   "metadata": {},
   "outputs": [],
   "source": [
    "code = \"\"\"\n",
    "function add(uint256 a, uint256 b) public pure returns (uint256) {\n",
    "    return a + b;\n",
    "}\n",
    "\n",
    "function subtract(uint256 a, uint256 b) {\n",
    "    require(a >= b, \"Subtraction overflow\");\n",
    "    return a - b;\n",
    "}\n",
    "\"\"\""
   ]
  },
  {
   "cell_type": "code",
   "execution_count": 31,
   "id": "316e4ac7-cee2-43d2-a5c9-ead9699b747e",
   "metadata": {},
   "outputs": [],
   "source": [
    "code = \"\"\"\n",
    "contract VerifySignature {\n",
    "    function splitSignature(\n",
    "        bytes memory sig\n",
    "    ) public pure returns (bytes32 r, bytes32 s, uint8 v) {\n",
    "        require(sig.length == 65, \"invalid signature length\");\n",
    "\n",
    "        assembly {\n",
    "            /*\n",
    "            First 32 bytes stores the length of the signature\n",
    "\n",
    "            add(sig, 32) = pointer of sig + 32\n",
    "            effectively, skips first 32 bytes of signature\n",
    "\n",
    "            mload(p) loads next 32 bytes starting at the memory address p into memory\n",
    "            */\n",
    "\n",
    "            // first 32 bytes, after the length prefix\n",
    "            r := mload(add(sig, 32))\n",
    "            // second 32 bytes\n",
    "            s := mload(add(sig, 64))\n",
    "            // final byte (first byte of the next 32 bytes)\n",
    "            v := byte(0, mload(add(sig, 96)))\n",
    "        }\n",
    "\n",
    "        // implicitly return (r, s, v)\n",
    "    }\n",
    "}\n",
    "\n",
    "\"\"\""
   ]
  },
  {
   "cell_type": "code",
   "execution_count": 32,
   "id": "ec374594-4253-4f66-9407-989c408a6d00",
   "metadata": {},
   "outputs": [
    {
     "name": "stdout",
     "output_type": "stream",
     "text": [
      "-----\n",
      "function splitSignature(\n",
      "        bytes memory sig\n",
      "    ) public pure returns (bytes32 r, bytes32 s, uint8 v) {\n",
      "        require(sig.length == 65, \"invalid signature length\");\n",
      "\n",
      "        assembly {\n",
      "            /*\n",
      "            First 32 bytes stores the length of the signature\n",
      "\n",
      "            add(sig, 32) = pointer of sig + 32\n",
      "            effectively, skips first 32 bytes of signature\n",
      "\n",
      "            mload(p) loads next 32 bytes starting at the memory address p into memory\n",
      "            */\n",
      "\n",
      "            // first 32 bytes, after the length prefix\n",
      "            r := mload(add(sig, 32))\n",
      "            // second 32 bytes\n",
      "            s := mload(add(sig, 64))\n",
      "            // final byte (first byte of the next 32 bytes)\n",
      "            v := byte(0, mload(add(sig, 96)))\n",
      "        }\n"
     ]
    }
   ],
   "source": [
    "import re\n",
    "\n",
    "# Define the Solidity function regex pattern\n",
    "pat = re.compile(r'function\\s+[a-zA-Z_]\\w*\\s*\\([^)]*\\)[^{]*\\s*{[^}]*}')\n",
    "\n",
    "# Find all matches in the Solidity code\n",
    "matches = pat.findall(code)\n",
    "\n",
    "# Print the matches\n",
    "for match in matches:\n",
    "    print(\"-----\")\n",
    "    print(match)"
   ]
  }
 ],
 "metadata": {
  "kernelspec": {
   "display_name": "Python 3 (ipykernel)",
   "language": "python",
   "name": "python3"
  },
  "language_info": {
   "codemirror_mode": {
    "name": "ipython",
    "version": 3
   },
   "file_extension": ".py",
   "mimetype": "text/x-python",
   "name": "python",
   "nbconvert_exporter": "python",
   "pygments_lexer": "ipython3",
   "version": "3.10.7"
  }
 },
 "nbformat": 4,
 "nbformat_minor": 5
}
