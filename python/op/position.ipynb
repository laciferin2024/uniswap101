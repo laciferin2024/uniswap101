{
 "cells": [
  {
   "cell_type": "code",
   "execution_count": 3,
   "id": "741efedb-38ef-40dd-9842-96f6fcca7df8",
   "metadata": {},
   "outputs": [
    {
     "name": "stdout",
     "output_type": "stream",
     "text": [
      "pos 0 ancestor 1 bounded ancestor 10\n",
      "pos 1 ancestor 1 bounded ancestor 5\n",
      "pos 2 ancestor 2 bounded ancestor 12\n",
      "pos 3 ancestor 1 bounded ancestor 6\n",
      "pos 4 ancestor 4 bounded ancestor 14\n",
      "pos 5 ancestor 2 bounded ancestor 7\n",
      "pos 6 ancestor 6 bounded ancestor 16\n",
      "pos 7 ancestor 1 bounded ancestor 8\n",
      "pos 8 ancestor 8 bounded ancestor 18\n",
      "pos 9 ancestor 4 bounded ancestor 4\n",
      "pos 10 bounded ancestor 10\n",
      "pos 11 bounded ancestor 5\n",
      "pos 12 bounded ancestor 12\n",
      "pos 13 bounded ancestor 6\n",
      "pos 14 bounded ancestor 14\n",
      "pos 15 bounded ancestor 7\n",
      "pos 16 bounded ancestor 16\n",
      "pos 17 bounded ancestor 8\n",
      "pos 18 bounded ancestor 18\n",
      "pos 19 bounded ancestor 4\n"
     ]
    }
   ],
   "source": [
    "from position import Position\n",
    "\n",
    "Position.wrap(0, 0)\n",
    "Position.depth(4)\n",
    "Position.index_at_depth(4)\n",
    "Position.right_index(4, 4)\n",
    "Position.trace_index(4, 4)\n",
    "\n",
    "for i in range(0, 10):\n",
    "    print(\n",
    "        \"pos\", i, \n",
    "        \"ancestor\", Position.trace_ancestor(i), \n",
    "        \"bounded ancestor\", Position.trace_ancestor_bounded(i + 10, 1)\n",
    "    )\n",
    "\n",
    "for i in range(10, 20):\n",
    "    print(\n",
    "        \"pos\", i, \n",
    "        \"bounded ancestor\", Position.trace_ancestor_bounded(i, 1)\n",
    "    )"
   ]
  }
 ],
 "metadata": {
  "kernelspec": {
   "display_name": "Python 3 (ipykernel)",
   "language": "python",
   "name": "python3"
  },
  "language_info": {
   "codemirror_mode": {
    "name": "ipython",
    "version": 3
   },
   "file_extension": ".py",
   "mimetype": "text/x-python",
   "name": "python",
   "nbconvert_exporter": "python",
   "pygments_lexer": "ipython3",
   "version": "3.10.11"
  }
 },
 "nbformat": 4,
 "nbformat_minor": 5
}
