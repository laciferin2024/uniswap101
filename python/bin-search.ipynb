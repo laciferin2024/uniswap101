{
 "cells": [
  {
   "cell_type": "code",
   "execution_count": null,
   "id": "5f6a6af4-a55d-4667-b13b-72a9938ec6db",
   "metadata": {},
   "outputs": [],
   "source": []
  },
  {
   "cell_type": "code",
   "execution_count": 18,
   "id": "5bf6ba60-c813-4ae0-a419-60285126a328",
   "metadata": {},
   "outputs": [
    {
     "name": "stdout",
     "output_type": "stream",
     "text": [
      "0 0\n",
      "1 1\n",
      "2 2\n",
      "3 2\n",
      "4 4\n",
      "5 5\n",
      "6 5\n",
      "7 5\n",
      "8 8\n",
      "9 8\n",
      "10 10\n",
      "11 10\n",
      "12 10\n",
      "13 10\n",
      "14 14\n",
      "15 14\n"
     ]
    }
   ],
   "source": [
    "import numpy as np\n",
    "\n",
    "# NOTE: array element must be unique and sorted asc\n",
    "def search(arr, x):\n",
    "    high = len(arr)\n",
    "    low = 0\n",
    "    while low < high:\n",
    "        mid = (low + high) // 2\n",
    "        if arr[mid] > x:\n",
    "            high = mid\n",
    "        else:\n",
    "            low = mid + 1\n",
    "    if high == 0:\n",
    "        return 0\n",
    "    return arr[high - 1]\n",
    "\n",
    "arr = [1, 2, 4, 5, 8, 10, 14]\n",
    "for i in range(0, 16):\n",
    "    print(i, search(arr, i))"
   ]
  }
 ],
 "metadata": {
  "kernelspec": {
   "display_name": "Python 3 (ipykernel)",
   "language": "python",
   "name": "python3"
  },
  "language_info": {
   "codemirror_mode": {
    "name": "ipython",
    "version": 3
   },
   "file_extension": ".py",
   "mimetype": "text/x-python",
   "name": "python",
   "nbconvert_exporter": "python",
   "pygments_lexer": "ipython3",
   "version": "3.10.7"
  }
 },
 "nbformat": 4,
 "nbformat_minor": 5
}
