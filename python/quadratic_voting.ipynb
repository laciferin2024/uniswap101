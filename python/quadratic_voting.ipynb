{
 "cells": [
  {
   "cell_type": "code",
   "execution_count": 20,
   "id": "af8784ac-bbc0-4aae-a7a0-eee1edd266cc",
   "metadata": {},
   "outputs": [
    {
     "data": {
      "image/png": "[encoded data removed]",
      "text/plain": [
       "<Figure size 432x288 with 1 Axes>"
      ]
     },
     "metadata": {
      "needs_background": "light"
     },
     "output_type": "display_data"
    }
   ],
   "source": [
    "import math\n",
    "import numpy as np\n",
    "import random\n",
    "import matplotlib.pyplot as plt\n",
    "\n",
    "P = 4\n",
    "# Total citizens\n",
    "N = 1000\n",
    "# Minorities - always votes 0th candidate\n",
    "M = 5\n",
    "RUNS = 1000\n",
    "\n",
    "wins = [0 for _ in range(P)]\n",
    "\n",
    "for r in range(RUNS):\n",
    "    votes = [0 for i in range(P)]\n",
    "    for i in range(N - M):\n",
    "        i = random.randint(0, P - 1)\n",
    "        votes[i] += 1\n",
    "\n",
    "    for i in range(M):\n",
    "        votes[0] += 1\n",
    "    \n",
    "    i = votes.index(max(votes))\n",
    "    wins[i] += 1\n",
    "    \n",
    "x = [i for i in range(P)]\n",
    "y = wins\n",
    "\n",
    "plt.bar(x, y)\n",
    "plt.grid()\n",
    "plt.show()"
   ]
  },
  {
   "cell_type": "code",
   "execution_count": 4,
   "id": "f5035557-204b-46a2-9d13-f3e3e5961ca7",
   "metadata": {},
   "outputs": [
    {
     "name": "stdout",
     "output_type": "stream",
     "text": [
      "[4743.298264713426, 4723.402426014029, 4751.712496016823, 4749.31654881252]\n",
      "[4843.298264713426, 4723.402426014029, 4751.712496016823, 4749.31654881252]\n"
     ]
    }
   ],
   "source": [
    "import math\n",
    "import random\n",
    "\n",
    "RUNS = 1\n",
    "P = 4\n",
    "N = 1000\n",
    "CREDITS = 100\n",
    "\n",
    "# Get random distribution of credits that a user will allocate to projects\n",
    "def get_random_dist():\n",
    "    weights = [random.random() for i in range(P)]\n",
    "  \n",
    "    s = sum(weights)\n",
    "    if s == 0:\n",
    "        s = 1\n",
    "\n",
    "    # Normalize weights\n",
    "    for i in range(P):\n",
    "        weights[i] /= s\n",
    "\n",
    "    dist = [0 for i in range(P)]\n",
    "    rem = CREDITS\n",
    "\n",
    "    for i in range(P):\n",
    "        c = math.floor(CREDITS * weights[i])\n",
    "        rem -= c\n",
    "        dist[i] = c\n",
    "\n",
    "    # Randomly add remainder\n",
    "    i = random.randint(0, P - 1)\n",
    "    dist[i] += rem\n",
    "\n",
    "    return dist\n",
    "\n",
    "# Vote\n",
    "votes = [0 for i in range(P)]\n",
    "\n",
    "for _ in range(N):\n",
    "    dist = get_random_dist()\n",
    "    for i in range(P):\n",
    "        votes[i] += math.sqrt(dist[i])\n",
    "\n",
    "print(votes)\n",
    "\n",
    "for _ in range(10):\n",
    "    votes[0] += math.sqrt(credits)\n",
    "\n",
    "print(votes)"
   ]
  }
 ],
 "metadata": {
  "kernelspec": {
   "display_name": "Python 3 (ipykernel)",
   "language": "python",
   "name": "python3"
  },
  "language_info": {
   "codemirror_mode": {
    "name": "ipython",
    "version": 3
   },
   "file_extension": ".py",
   "mimetype": "text/x-python",
   "name": "python",
   "nbconvert_exporter": "python",
   "pygments_lexer": "ipython3",
   "version": "3.10.11"
  }
 },
 "nbformat": 4,
 "nbformat_minor": 5
}
